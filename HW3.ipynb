{
 "cells": [
  {
   "cell_type": "markdown",
   "source": [
    "# Homework 3\n",
    "\n",
    "### 1.\n",
    "\n",
    "We consider the LASSO problem :\n",
    "\n",
    "\\begin{equation*}\n",
    "\\begin{split}\n",
    "\\min_w & \\frac{1}{2}\\vert\\vert Xw - y \\vert\\vert^2_2 + \\lambda \\vert\\vert w \\vert\\vert_1\\\\\n",
    "\\iff \\min_{w, z} & \\frac{1}{2} \\vert\\vert z \\vert\\vert^2_2 +  \\lambda \\vert\\vert w \\vert\\vert_1\\\\\n",
    "     \\text{s.t.} & z = Xw - y\n",
    "\\end{split}\n",
    "\\end{equation*}\n",
    "\n",
    "where we introduce the dummy variable $z$ to compute the dual of the problem in a useful form.\n",
    "\n",
    "Indeed, using this form of the problem, the Lagrangian is, with $\\nu$ denoting the Lagrange multiplier :\n",
    "\n",
    "\\begin{equation*}\n",
    "\\begin{split}\n",
    "\\mathscr{L} (w, z, \\nu) &= \\frac{1}{2} \\vert\\vert z \\vert\\vert^2_2 + \\lambda \\vert\\vert w \\vert\\vert_1 + \\nu^T\\left( z - Xw + y \\right)\\\\\n",
    "&= \\frac{1}{2} \\vert\\vert z \\vert\\vert^2_2 + \\nu^T z + \\lambda \\left( \\vert\\vert w \\vert\\vert_1 - \\frac{1}{\\lambda} \\left( X^T\\nu \\right)^T w \\right) + \\nu^T y\\\\\n",
    "\\end{split}\n",
    "\\end{equation*}\n",
    "\n",
    "Minimizing $\\mathscr{L}(z, w, \\nu)$ over $w$ is equivalent to :\n",
    "\n",
    "$$\\max_w \\lambda \\left( \\frac{1}{\\lambda} \\left( X^T\\nu \\right)^T w - \\vert\\vert w \\vert\\vert_1 \\right)$$\n",
    "\n",
    "where we recognize the conjugate norm $\\lambda \\vert\\vert \\frac{1}{\\lambda} X^T \\nu \\vert\\vert_1^*$, therefore :\n",
    "\n",
    "\\begin{equation*}\n",
    "\\begin{split}\n",
    "\\min_{w} \\mathscr{L} (w, z, \\nu) &= -\\infty \\text{ if } \\vert\\vert \\frac{1}{\\lambda} X^T \\nu \\vert\\vert_{\\infty} > 1\\\\\n",
    "                             &= \\frac{1}{2} \\vert\\vert z \\vert\\vert^2_2 + \\nu^T z + \\nu^T y \\text{ otherwise}\\\\\n",
    "                             &= z^T \\left( \\frac{1}{2}z + \\nu \\right) + \\nu^T y\n",
    "\\end{split}\n",
    "\\end{equation*}\n",
    "\n",
    "We compute the gradient of $\\mathscr{L}$ with respect to $z$ to minimize it (i.e. compute the Lagrange dual function $g(\\nu)$) :\n",
    "\n",
    "\\begin{equation*}\n",
    "\\begin{split}\n",
    "\\nabla \\mathscr{L}(z) &= \\frac{1}{2} z + \\nu + \\frac{1}{2}z\\\\\n",
    "                      &= z + \\nu\\\\\n",
    "\\implies \\nabla \\mathscr{L}(z) &= 0 \\iff z = -\\nu\n",
    "\\end{split}\n",
    "\\end{equation*}\n",
    "\n",
    "Therefore, we obtain :\n",
    "\n",
    "$$g(\\nu) = -\\frac{1}{2} \\nu^T\\nu + \\nu^Ty$$\n",
    "\n",
    "and the dual problem expressed as a quadratic program is :\n",
    "\n",
    "\\begin{equation*}\n",
    "\\begin{split}\n",
    "\\min_{v} \\, -g(v) &= v^T Q v + p^T v\\\\\n",
    "       \\text{s.t. } Av &\\leq b\n",
    "\\end{split}\n",
    "\\end{equation*}\n",
    "\n",
    "where $v = \\nu, Q = \\frac{1}{2} I_n, p = -y,$\n",
    "\\begin{align}\n",
    "A &= \\begin{bmatrix}\n",
    "X^T\\\\\n",
    "-X^T\n",
    "\\end{bmatrix}\n",
    "\\end{align}\n",
    "and $b = \\lambda \\mathbb{1}_{2d}$ (which is $\\vert\\vert \\frac{1}{\\lambda} X^T\\nu \\vert\\vert_\\infty \\leq 1$ written in matrix form)"
   ],
   "metadata": {
    "collapsed": false
   }
  },
  {
   "cell_type": "markdown",
   "source": [
    "### 2.\n",
    "\n",
    "Let us now implement the barrier method to solve this dual problem.\n",
    "\n"
   ],
   "metadata": {
    "collapsed": false
   }
  },
  {
   "cell_type": "code",
   "execution_count": 2,
   "outputs": [],
   "source": [
    "import numpy as np\n",
    "import matplotlib.pyplot as plt\n",
    "from typing import Callable, Union, Tuple\n",
    "import sys"
   ],
   "metadata": {
    "collapsed": false
   }
  },
  {
   "cell_type": "code",
   "execution_count": 3,
   "outputs": [],
   "source": [
    "# Backtracking Line Search params\n",
    "BLS_ALPHA = 0.1\n",
    "BLS_BETA = 0.7\n",
    "\n",
    "# Newton precision\n",
    "NEWTON_EPSILON = 1e-8\n",
    "\n",
    "LOGBARR_MU = 10.  # path update : t <- µ * t\n",
    "LOGBARR_T0 = 1.  # first t value (start of path)"
   ],
   "metadata": {
    "collapsed": false
   }
  },
  {
   "cell_type": "code",
   "execution_count": 4,
   "outputs": [],
   "source": [
    "def log_barrier(vals: np.ndarray) -> float:\n",
    "    \"\"\"\n",
    "    Log barrier function. Expects NEGATIVE values as inputs.\n",
    "    (This is the function \"phi\" from slide 7 of Lecture 5)\n",
    "\n",
    "    :param vals: value of constraint functions\n",
    "    :return: log barrier evaluation\n",
    "    \"\"\"\n",
    "    if np.any(vals >= 0):\n",
    "        raise ValueError('[log_barrier] Positive value encountered')\n",
    "\n",
    "    return -np.sum(np.log(-vals))"
   ],
   "metadata": {
    "collapsed": false
   }
  },
  {
   "cell_type": "code",
   "execution_count": 5,
   "outputs": [],
   "source": [
    "def check_objective_def(A: np.ndarray,\n",
    "                        b: np.ndarray,\n",
    "):\n",
    "    \"\"\"\n",
    "    Create a function that checks if the objective is defined\n",
    "\n",
    "    :param A: the inequality constraint matrix\n",
    "    :param b: the inequality constraint vector\n",
    "    :return: A function of x that returns True if Ax - b < 0\n",
    "    \"\"\"\n",
    "    def _check(x):\n",
    "        u = A @ x\n",
    "        u = u - b\n",
    "        return np.all(u < 0)\n",
    "\n",
    "    return _check"
   ],
   "metadata": {
    "collapsed": false
   }
  },
  {
   "cell_type": "code",
   "execution_count": 6,
   "outputs": [],
   "source": [
    "def bls(f: Callable,\n",
    "        gradf_x: Union[np.ndarray, float],\n",
    "        x: Union[np.ndarray, float],\n",
    "        delta_x: Union[np.ndarray, float],\n",
    "        alpha: float,\n",
    "        beta: float,\n",
    "        check_def: Callable,\n",
    "        ) -> float:\n",
    "    \"\"\"\n",
    "    Backtracking Line Search algorithm.\n",
    "    The algorithm may not converge if we are very close to the optimum,\n",
    "    therefore we break out of the loop if the step length becomes zero\n",
    "    (the loop becomes infinite in this case)\n",
    "\n",
    "    :param f: the objective function (real-valued)\n",
    "    :param gradf_x: the gradient of f at x\n",
    "    :param x: the current point from which to descent\n",
    "    :param delta_x: the descent direction\n",
    "    :param alpha: parameter in [0, 1/2]\n",
    "    :param beta: shrinkage parameter in [0, 1)\n",
    "    :param check_def: function that returns True on an input v if f(v) is defined\n",
    "    :return: the optimal (if reached) step length t\n",
    "    \"\"\"\n",
    "    t = 1.\n",
    "\n",
    "    while (\n",
    "            not check_def(x + t * delta_x)\n",
    "            or f(x + t * delta_x) >= f(x) + alpha * t * np.dot(gradf_x, delta_x)\n",
    "    ):\n",
    "        t = beta * t\n",
    "        if t < sys.float_info.epsilon:\n",
    "            break\n",
    "\n",
    "    return t"
   ],
   "metadata": {
    "collapsed": false
   }
  },
  {
   "cell_type": "markdown",
   "source": [
    "#### Computation of the gradient and the Hessian\n",
    "\n",
    "\n",
    "The gradient and Hessian of $g_t(v) = t\\left( v^TQv + p^Tv \\right) - \\sum\\limits_{k=1}^{2d} \\log \\left( b - Av \\right)_k$ are :\n",
    "\n",
    "$$\\nabla g_t(v) = t(2Qv + p) - \\sum_{k=1}^{2d} \\frac{1}{(Av - b)_k} A^T_k$$\n",
    "\n",
    "where $A^T_k$ is the $k$-th column of $A^T$ i.e. the $k$-th line of $A$, and\n",
    "\n",
    "$$\\nabla^2 g_t(v) = t2Q + \\sum_{k=1}^{2d} \\frac{1}{(Av - b)_k^2} M(k)$$\n",
    "\n",
    "where\n",
    "\n",
    "$$M(k)_{ij} = A_{ki} A_{kj}$$\n",
    "\n",
    "i.e. $M(k)$ is the \"tensor product\" of the $k$-th line of $A$ with itself :\n",
    "\n",
    "\\begin{align}\n",
    "M(k) &= \\begin{bmatrix}\n",
    "A_{k1}\\\\\n",
    "\\vdots\\\\\n",
    "A_{kn}\\\\\n",
    "\\end{bmatrix}\n",
    "\\begin{bmatrix}\n",
    "A_{k1} \\hdots A_{kn}\n",
    "\\end{bmatrix}\n",
    "\\end{align}\n",
    "\n",
    "Using the element-wise multiplication rule of NumPy arrays, these weighted sums are written in short expressions in the code below."
   ],
   "metadata": {
    "collapsed": false
   }
  },
  {
   "cell_type": "code",
   "execution_count": 7,
   "outputs": [],
   "source": [
    "def centering_step(\n",
    "        Q: np.ndarray,\n",
    "        p: np.ndarray,\n",
    "        A: np.ndarray,\n",
    "        b: np.ndarray,\n",
    "        t: float,\n",
    "        v0: np.ndarray,\n",
    "        eps: float\n",
    ") -> np.ndarray:\n",
    "    \"\"\"\n",
    "    Perform the centering step of the log-barrier algorithm.\n",
    "    Compute the steepest descent in local Hessian norm (Newton algorithm)\n",
    "    and choose a step length using backtracking line search\n",
    "\n",
    "    :param Q: Hessian of the original objective\n",
    "    :param p: linear coefficients of the original objective\n",
    "    :param A:\n",
    "    :param b:\n",
    "    :param t:\n",
    "    :param v0:\n",
    "    :param eps:\n",
    "    :return:\n",
    "    \"\"\"\n",
    "\n",
    "    objective_f = lambda v: t * (v.T @ Q @ v + p @ v) + log_barrier(A @ v - b)\n",
    "    def_checker = check_objective_def(A, b)\n",
    "    v = v0\n",
    "    v_history = [v]\n",
    "    previous_decrement = None # debug purposes (check decreasing decrement)\n",
    "\n",
    "    while True:\n",
    "        # Compute gradient and Hessian of the objective\n",
    "        u = A @ v - b\n",
    "        grad = t * (2 * Q @ v + p) - np.sum(1 / u * A.T, axis=1)  # sum( 1/(Av-b)[k]*(k-th line of A) )\n",
    "\n",
    "        barrier_hess = (1 / u**2 * A.T) @ A\n",
    "        hess = t * 2 * Q + barrier_hess\n",
    "\n",
    "        delta_v = np.linalg.solve(hess, -grad)  # Newton descent direction\n",
    "        newton_decrement_sq = np.dot(grad, -delta_v)\n",
    "\n",
    "        # Sanity check\n",
    "        if previous_decrement is None:\n",
    "            previous_decrement = newton_decrement_sq\n",
    "        if newton_decrement_sq - previous_decrement > 0.:\n",
    "            print('[WARNING][centering_step] Newton decrement increasing')\n",
    "\n",
    "        # Stop\n",
    "        if 0.5 * newton_decrement_sq <= eps:\n",
    "            return np.array(v_history, dtype=float)\n",
    "\n",
    "        # Descend\n",
    "        step_l = bls(\n",
    "            f=objective_f,\n",
    "            gradf_x=grad,\n",
    "            x=v,\n",
    "            delta_x=delta_v,\n",
    "            alpha=BLS_ALPHA,\n",
    "            beta=BLS_BETA,\n",
    "            check_def=def_checker,\n",
    "        )\n",
    "        reached_zero = step_l < sys.float_info.epsilon\n",
    "        if reached_zero:\n",
    "            return np.array(v_history, dtype=float)\n",
    "\n",
    "        v = v + step_l * delta_v\n",
    "        v_history.append(v)\n"
   ],
   "metadata": {
    "collapsed": false
   }
  },
  {
   "cell_type": "code",
   "execution_count": 8,
   "outputs": [],
   "source": [
    "def barr_method(\n",
    "        Q: np.ndarray,\n",
    "        p: np.ndarray,\n",
    "        A: np.ndarray,\n",
    "        b: np.ndarray,\n",
    "        v0: np.ndarray,\n",
    "        eps: float,\n",
    "        mu=LOGBARR_MU,\n",
    "        t0=LOGBARR_T0\n",
    ") -> np.ndarray:\n",
    "    def_checker = check_objective_def(A, b)\n",
    "    if not def_checker(v0):\n",
    "        raise ValueError('The log barrier is not defined for the input v0')\n",
    "\n",
    "    m = len(b)\n",
    "    t = t0\n",
    "    v_history = [v0]\n",
    "    v = v0\n",
    "\n",
    "    while True:\n",
    "        v = centering_step(Q=Q,\n",
    "                           p=p,\n",
    "                           A=A,\n",
    "                           b=b,\n",
    "                           t=t,\n",
    "                           v0=v,\n",
    "                           eps=NEWTON_EPSILON)[-1]\n",
    "\n",
    "        v_history.append(v)\n",
    "\n",
    "        if m / t < eps:\n",
    "            break\n",
    "\n",
    "        t = mu * t\n",
    "\n",
    "    return np.array(v_history, dtype=float)"
   ],
   "metadata": {
    "collapsed": false
   }
  },
  {
   "cell_type": "markdown",
   "source": [
    "### 3.\n",
    "\n",
    "We now test the implemented LASSO solver using random data"
   ],
   "metadata": {
    "collapsed": false
   }
  },
  {
   "cell_type": "code",
   "execution_count": 9,
   "outputs": [],
   "source": [
    "# A very small example\n",
    "n = 3\n",
    "d = 2\n",
    "scale = 1.\n",
    "X = scale * 2 * (np.random.rand(n, d) - 0.5)  # n x's in R^d, in rows\n",
    "y = 2 * (np.random.rand(n) - 0.5)  # n observations\n",
    "_lambda = 10.\n",
    "\n",
    "Q = 0.5 * np.eye(n)\n",
    "p = -y\n",
    "A = np.vstack([X.T, -X.T])\n",
    "b = np.full(shape=2 * d, fill_value=_lambda)"
   ],
   "metadata": {
    "collapsed": false
   }
  },
  {
   "cell_type": "code",
   "execution_count": 10,
   "outputs": [],
   "source": [
    "v0 = np.zeros(shape=n)  # v0 stricly feasible (for all lambda > 0)\n",
    "v_hist = barr_method(Q=Q,\n",
    "                     p=p,\n",
    "                     A=A,\n",
    "                     b=b,\n",
    "                     v0=v0,\n",
    "                     eps=1e-6)"
   ],
   "metadata": {
    "collapsed": false
   }
  },
  {
   "cell_type": "code",
   "execution_count": 11,
   "outputs": [],
   "source": [
    "def dual_objective(v):\n",
    "    res = np.zeros(len(v), dtype=float)\n",
    "    for i, _v in enumerate(v):\n",
    "        res[i] = np.dot(_v, np.dot(Q, _v)) + np.dot(p, _v)\n",
    "    return res"
   ],
   "metadata": {
    "collapsed": false
   }
  },
  {
   "cell_type": "code",
   "execution_count": 12,
   "outputs": [
    {
     "data": {
      "text/plain": "<Figure size 800x800 with 1 Axes>",
      "image/png": "[encoded data removed]"
     },
     "metadata": {},
     "output_type": "display_data"
    }
   ],
   "source": [
    "plt.figure(figsize=(8, 8))\n",
    "plt.semilogy(dual_objective(v_hist[:-1]) - dual_objective([v_hist[-1]]), label=f'Dual objective $f$ ($\\mu = {LOGBARR_MU})$')\n",
    "plt.legend()\n",
    "plt.ylabel('$f(v_t) - f^*$')\n",
    "_ = plt.xlabel('# Log-barrier iterations')"
   ],
   "metadata": {
    "collapsed": false
   }
  },
  {
   "cell_type": "markdown",
   "source": [
    "As expected, a linear convergence in semilog scale"
   ],
   "metadata": {
    "collapsed": false
   }
  },
  {
   "cell_type": "code",
   "execution_count": 13,
   "outputs": [],
   "source": [
    "# A more complex example\n",
    "n = 25\n",
    "d = 500\n",
    "\n",
    "scale = 1.\n",
    "X = scale * 2 * (np.random.rand(n, d) - 0.5)  # n x's in R^d, in rows\n",
    "y = 2 * (np.random.rand(n) - 0.5)  # n observations\n",
    "_lambda = 0.1\n",
    "\n",
    "Q = 0.5 * np.eye(n)\n",
    "p = -y\n",
    "A = np.vstack([X.T, -X.T])\n",
    "b = np.full(shape=2 * d, fill_value=_lambda)"
   ],
   "metadata": {
    "collapsed": false
   }
  },
  {
   "cell_type": "code",
   "execution_count": 14,
   "outputs": [
    {
     "name": "stdout",
     "output_type": "stream",
     "text": [
      "X^T X is singular : True\n"
     ]
    }
   ],
   "source": [
    "print(f'X^T X is singular : {np.linalg.cond(X.T @ X) >= 1 / sys.float_info.epsilon}')"
   ],
   "metadata": {
    "collapsed": false
   }
  },
  {
   "cell_type": "code",
   "execution_count": 15,
   "outputs": [],
   "source": [
    "v0 = np.zeros(shape=n)  # v0 stricly feasible (for all lambda > 0)\n",
    "v_hist = barr_method(Q=Q,\n",
    "                     p=p,\n",
    "                     A=A,\n",
    "                     b=b,\n",
    "                     v0=v0,\n",
    "                     eps=1e-6)"
   ],
   "metadata": {
    "collapsed": false
   }
  },
  {
   "cell_type": "code",
   "execution_count": 16,
   "outputs": [
    {
     "data": {
      "text/plain": "<Figure size 800x800 with 1 Axes>",
      "image/png": "[encoded data removed]"
     },
     "metadata": {},
     "output_type": "display_data"
    }
   ],
   "source": [
    "plt.figure(figsize=(8, 8))\n",
    "plt.semilogy(dual_objective(v_hist[:-1]) - dual_objective([v_hist[-1]]), label=f'Dual objective $f$ ($\\mu = {LOGBARR_MU})$')\n",
    "plt.legend()\n",
    "plt.ylabel('$f(v_t) - f^*$')\n",
    "_ = plt.xlabel('# Log-barrier iterations')"
   ],
   "metadata": {
    "collapsed": false
   }
  },
  {
   "cell_type": "markdown",
   "source": [
    "Still a very quick convergence, both in number of iterations and in time !"
   ],
   "metadata": {
    "collapsed": false
   }
  },
  {
   "cell_type": "markdown",
   "source": [
    "We must now relate the optimum of the dual with the optimum of the primal. The primal\n",
    "\n",
    "\\begin{equation*}\n",
    "\\begin{split}\n",
    "\\min_w & \\frac{1}{2}\\vert\\vert Xw - y \\vert\\vert^2_2 + \\lambda \\vert\\vert w \\vert\\vert_1\\\\\n",
    "\\iff \\min_{w, z} & \\frac{1}{2} \\vert\\vert z \\vert\\vert^2_2 +  \\lambda \\vert\\vert w \\vert\\vert_1\\\\\n",
    "     \\text{s.t. } & z = Xw - y\n",
    "\\end{split}\n",
    "\\end{equation*}\n",
    "is convex (by convexity of norms in the objective function, and convexity of the linear inequality constraints), and it is strictly feasible as any $w \\in \\mathbb{R}^d$ is feasible. Therefore, strong duality holds, and we have for the optimal parameters $(w^*, z^*, \\nu^*)$ :\n",
    "\n",
    "\\begin{equation*}\n",
    "\\begin{split}\n",
    "z^* &= -\\nu^* \\text{ by definition of the Lagrange dual function (from } \\nabla \\mathscr{L}(z, \\nu ) = 0 \\iff z = -\\nu \\text{ )}\\\\\n",
    "X w^* &= z^* + y \\text{ by constraints}\\\\\n",
    "\\iff w^* &= \\left( X^T X \\right)^{-1} X^T (z^* + y) \\text{ if rank}(X) = d\n",
    "\\end{split}\n",
    "\\end{equation*}\n",
    "\n",
    "In practice, if $n < d$, we always have $\\text{rank}(X) < d$. However, solving the system to get a value of $w^*$ still results in a solution of the primal, with the same $l_1$ norm and the same fitted values (and therefore, the same residues) as shown by [Tibshirani (2012), The Lasso Problem and Uniqueness](https://arxiv.org/abs/1206.0313). It may be difficult to choose the \"right\" $w^*$ value as it is difficult to define such a notion, particularly when different candidates have different non-zero coefficients (supports). In the same paper, Tibshirani derives a sufficient condition for uniqueness : considering the set\n",
    "\n",
    "$$\\varepsilon = \\{ i \\in \\{1, ..., d\\}, \\vert X_i^T (X w^* - y) \\vert = \\lambda \\}$$\n",
    "\n",
    "where $X_i \\in \\mathbb{R}^n$ denotes a column of $X$, and the matrix $X_\\varepsilon$ defined by the concatenation of the columns $X_j, j \\in \\varepsilon$, then the solution is unique if $\\text{rank}(X_\\varepsilon) = \\text{Card} (\\varepsilon)$, and, denoting $s$ the vector containing the signs of the elements of $X_\\varepsilon^T (y - Xw^*)$ :\n",
    "\n",
    "\\begin{equation*}\n",
    "\\begin{split}\n",
    "w^*_\\varepsilon &= \\left( X_\\varepsilon^T X_\\varepsilon \\right)^{-1} \\left( X^T_\\varepsilon y - \\lambda s \\right)\\\\\n",
    "w^*_{\\bar{\\varepsilon}} &= 0\\\\\n",
    "\\end{split}\n",
    "\\end{equation*}\n",
    "\n",
    "where $w^*_\\varepsilon$ denotes the vector of components of $w^*$ whose indices are in $\\varepsilon$\n",
    "\n",
    "We can try to apply this criterion to get the solution."
   ],
   "metadata": {
    "collapsed": false
   }
  },
  {
   "cell_type": "code",
   "execution_count": 17,
   "outputs": [],
   "source": [
    "def compute_epsilon_set(X,\n",
    "                        resid,\n",
    "                        _lambda,\n",
    "                        tol=1e-6\n",
    "                        ):\n",
    "    X_cols = X.T\n",
    "    epsilon_set = []\n",
    "    for i, col in enumerate(X_cols):\n",
    "        if abs(abs((np.dot(col, resid))) - _lambda) < tol:\n",
    "            epsilon_set.append(i)\n",
    "\n",
    "    return epsilon_set"
   ],
   "metadata": {
    "collapsed": false
   }
  },
  {
   "cell_type": "code",
   "execution_count": 18,
   "outputs": [],
   "source": [
    "eps_set = compute_epsilon_set(X, -v_hist[-1], _lambda=_lambda)"
   ],
   "metadata": {
    "collapsed": false
   }
  },
  {
   "cell_type": "markdown",
   "source": [
    "Since the definition of the $\\varepsilon$ set is quite restrictive, we can't seem to compute it explicitly (or maybe it is always null in this example ?). We will thus simply resort to solving w.r.t. $w$\n",
    "\n",
    "$$X^T X w = X^T(z^* + y)$$"
   ],
   "metadata": {
    "collapsed": false
   }
  },
  {
   "cell_type": "code",
   "execution_count": 19,
   "outputs": [],
   "source": [
    "z_star = -v_hist[-1]\n",
    "w_star = np.linalg.solve(X.T @ X, np.dot(X.T, z_star + y))"
   ],
   "metadata": {
    "collapsed": false
   }
  },
  {
   "cell_type": "code",
   "execution_count": 20,
   "outputs": [
    {
     "name": "stdout",
     "output_type": "stream",
     "text": [
      "Minimal component of w_star : 0.011542565383075559\n",
      "l1-norm : 1412.9647051844918\n"
     ]
    }
   ],
   "source": [
    "print(f'Minimal component of w_star : {np.min(np.abs(w_star))}\\n'\n",
    "      f'l1-norm : {np.linalg.norm(w_star, ord=1)}')"
   ],
   "metadata": {
    "collapsed": false
   }
  },
  {
   "cell_type": "markdown",
   "source": [
    "Let us now study the impact of $\\mu$ on $w^*$."
   ],
   "metadata": {
    "collapsed": false
   }
  },
  {
   "cell_type": "code",
   "execution_count": 21,
   "outputs": [],
   "source": [
    "mus = np.array([2., 10., 30., 70., 100., 130.,])\n",
    "histories = []\n",
    "z_stars = []\n",
    "w_stars = []\n",
    "\n",
    "for mu in mus:\n",
    "    histories.append(barr_method(\n",
    "        Q,\n",
    "        p,\n",
    "        A,\n",
    "        b,\n",
    "        v0,\n",
    "        eps=1e-6,\n",
    "        mu=mu,\n",
    "        t0=LOGBARR_T0,\n",
    "    ))\n",
    "\n",
    "    z_stars.append(-histories[-1][-1])\n",
    "\n",
    "    w_stars.append(\n",
    "        np.linalg.solve(X.T @ X, np.dot(X.T, z_star + y))\n",
    "    )\n",
    "\n",
    "z_stars = np.array(z_stars)\n",
    "w_stars = np.array(w_stars)"
   ],
   "metadata": {
    "collapsed": false
   }
  },
  {
   "cell_type": "code",
   "execution_count": 31,
   "outputs": [
    {
     "name": "stdout",
     "output_type": "stream",
     "text": [
      "Residues are all close : False\n",
      "w_stars are all close : True\n"
     ]
    }
   ],
   "source": [
    "# Check residue coherence\n",
    "print(f'Residues are all close : '\n",
    "      f'{np.allclose(z_stars, [z_stars[0] for _ in range(len(z_stars))], atol=1e-16)}')\n",
    "\n",
    "# Check if w_stars are all close\n",
    "print(f'w_stars are all close : '\n",
    "      f'{np.allclose(w_stars, [w_stars[0] for _ in range(len(w_stars))], atol=1e-16)}')"
   ],
   "metadata": {
    "collapsed": false
   }
  },
  {
   "cell_type": "markdown",
   "source": [
    "$w^*$ is not impacted at all by the choice of $\\mu$, therefore, we can simply choose any value of $\\mu$ for which the convergence is empirically fast.\n",
    "Moreover, the above check seems to show that the solution to the problem is in fact unique, as predicted by Lemma 4 in Tibshirani 2012, which states that if the points are drawn from a continuous distribution on $\\mathbb{R}^{np}$, the solution is almost surely unique. Since we draw points uniformly, we indeed get a unique optimum.\n",
    "\n",
    "However, we see the residues are different (for lower values of $\\lambda$) in the above code, in fact they are quite close but not using such an extreme tolerance threshold :"
   ],
   "metadata": {
    "collapsed": false
   }
  },
  {
   "cell_type": "code",
   "execution_count": 32,
   "outputs": [
    {
     "name": "stdout",
     "output_type": "stream",
     "text": [
      "Residues are all close : True\n"
     ]
    }
   ],
   "source": [
    "# Keep in mind : the observations range from -1 to 1\n",
    "print(f'Residues are all close : '\n",
    "      f'{np.allclose(z_stars, [z_stars[0] for _ in range(len(z_stars))], atol=1e-6)}')"
   ],
   "metadata": {
    "collapsed": false
   }
  },
  {
   "cell_type": "code",
   "execution_count": null,
   "outputs": [],
   "source": [],
   "metadata": {
    "collapsed": false
   }
  }
 ],
 "metadata": {
  "kernelspec": {
   "display_name": "Python 3",
   "language": "python",
   "name": "python3"
  },
  "language_info": {
   "codemirror_mode": {
    "name": "ipython",
    "version": 2
   },
   "file_extension": ".py",
   "mimetype": "text/x-python",
   "name": "python",
   "nbconvert_exporter": "python",
   "pygments_lexer": "ipython2",
   "version": "2.7.6"
  }
 },
 "nbformat": 4,
 "nbformat_minor": 0
}
